{
 "cells": [
  {
   "cell_type": "code",
   "execution_count": 1,
   "id": "12c575a2",
   "metadata": {},
   "outputs": [
    {
     "name": "stderr",
     "output_type": "stream",
     "text": [
      "Setting default log level to \"WARN\".\n",
      "To adjust logging level use sc.setLogLevel(newLevel). For SparkR, use setLogLevel(newLevel).\n"
     ]
    },
    {
     "name": "stdout",
     "output_type": "stream",
     "text": [
      "23/02/24 21:38:30 WARN NativeCodeLoader: Unable to load native-hadoop library for your platform... using builtin-java classes where applicable\n",
      "23/02/24 21:38:33 WARN Utils: Service 'SparkUI' could not bind on port 4040. Attempting port 4041.\n"
     ]
    }
   ],
   "source": [
    "import pyspark\n",
    "from pyspark.sql import SparkSession\n",
    "from pyspark.sql import functions as F\n",
    "from pyspark.sql.functions import col, to_date, cast\n",
    "\n",
    "spark = SparkSession.builder \\\n",
    "    .master(\"local[*]\") \\\n",
    "    .appName('test') \\\n",
    "    .getOrCreate()"
   ]
  },
  {
   "cell_type": "code",
   "execution_count": 2,
   "id": "c2cc9ff4",
   "metadata": {},
   "outputs": [
    {
     "name": "stderr",
     "output_type": "stream",
     "text": [
      "                                                                                \r"
     ]
    }
   ],
   "source": [
    "df_fhvhv = spark.read.parquet('fhvhv/2021/06/*')"
   ]
  },
  {
   "cell_type": "code",
   "execution_count": 3,
   "id": "e088d007",
   "metadata": {},
   "outputs": [],
   "source": [
    "df_fhvhv = df_fhvhv.withColumn('date_only', to_date(col('pickup_datetime')))"
   ]
  },
  {
   "cell_type": "code",
   "execution_count": 4,
   "id": "cd7ffa1b",
   "metadata": {},
   "outputs": [],
   "source": [
    "df_fhvhv = df_fhvhv \\\n",
    "    .withColumn('DiffInSeconds',col(\"dropoff_datetime\").cast(\"long\") - col('pickup_datetime').cast(\"long\")) \\\n",
    "    .withColumn('DiffInHours',(col('DiffInSeconds')/3600))"
   ]
  },
  {
   "cell_type": "code",
   "execution_count": 5,
   "id": "7adfccb6",
   "metadata": {},
   "outputs": [
    {
     "name": "stderr",
     "output_type": "stream",
     "text": [
      "/opt/anaconda3/lib/python3.9/site-packages/pyspark/sql/dataframe.py:229: FutureWarning: Deprecated in 2.0, use createOrReplaceTempView instead.\n",
      "  warnings.warn(\"Deprecated in 2.0, use createOrReplaceTempView instead.\", FutureWarning)\n"
     ]
    }
   ],
   "source": [
    "df_fhvhv.registerTempTable('trips_data')"
   ]
  },
  {
   "cell_type": "code",
   "execution_count": 6,
   "id": "25af9368",
   "metadata": {},
   "outputs": [
    {
     "name": "stderr",
     "output_type": "stream",
     "text": [
      "\r",
      "[Stage 1:>                                                          (0 + 4) / 4]\r"
     ]
    },
    {
     "name": "stdout",
     "output_type": "stream",
     "text": [
      "+----------+--------+\n",
      "| date_only|count(1)|\n",
      "+----------+--------+\n",
      "|2021-06-01|  417375|\n",
      "|2021-06-02|  457339|\n",
      "|2021-06-03|  521408|\n",
      "|2021-06-04|  538917|\n",
      "|2021-06-05|  604903|\n",
      "|2021-06-06|  522753|\n",
      "|2021-06-07|  425771|\n",
      "|2021-06-08|  462554|\n",
      "|2021-06-09|  483353|\n",
      "|2021-06-10|  504108|\n",
      "|2021-06-11|  549286|\n",
      "|2021-06-12|  591339|\n",
      "|2021-06-13|  509039|\n",
      "|2021-06-14|  426672|\n",
      "|2021-06-15|  452470|\n",
      "|2021-06-16|  479776|\n",
      "|2021-06-17|  497133|\n",
      "|2021-06-18|  540056|\n",
      "|2021-06-19|  601189|\n",
      "|2021-06-20|  491630|\n",
      "+----------+--------+\n",
      "only showing top 20 rows\n",
      "\n"
     ]
    },
    {
     "name": "stderr",
     "output_type": "stream",
     "text": [
      "\r",
      "                                                                                \r"
     ]
    }
   ],
   "source": [
    "spark.sql(\"\"\"\n",
    "SELECT\n",
    "    date_only,\n",
    "    count(1)\n",
    "FROM\n",
    "    trips_data\n",
    "GROUP BY \n",
    "    date_only\n",
    "ORDER BY \n",
    "    date_only\n",
    "\"\"\").show()"
   ]
  },
  {
   "cell_type": "code",
   "execution_count": 7,
   "id": "5dd5b889",
   "metadata": {},
   "outputs": [
    {
     "name": "stderr",
     "output_type": "stream",
     "text": [
      "\r",
      "[Stage 4:>                                                          (0 + 4) / 4]\r"
     ]
    },
    {
     "name": "stdout",
     "output_type": "stream",
     "text": [
      "+----------+-------------+------------------+\n",
      "| date_only|DiffInSeconds|       DiffInHours|\n",
      "+----------+-------------+------------------+\n",
      "|2021-06-25|       240764|  66.8788888888889|\n",
      "|2021-06-22|        91979|25.549722222222222|\n",
      "|2021-06-27|        71931|19.980833333333333|\n",
      "|2021-06-26|        65510|18.197222222222223|\n",
      "|2021-06-23|        59281|16.466944444444444|\n",
      "|2021-06-23|        51368|14.268888888888888|\n",
      "|2021-06-24|        50075|13.909722222222221|\n",
      "|2021-06-04|        42012|             11.67|\n",
      "|2021-06-27|        40917|11.365833333333333|\n",
      "|2021-06-20|        39544|10.984444444444444|\n",
      "|2021-06-01|        36963|           10.2675|\n",
      "|2021-06-28|        35879| 9.966388888888888|\n",
      "|2021-06-01|        35879| 9.966388888888888|\n",
      "|2021-06-27|        34696| 9.637777777777778|\n",
      "|2021-06-18|        34648| 9.624444444444444|\n",
      "|2021-06-08|        34129| 9.480277777777777|\n",
      "|2021-06-11|        34098| 9.471666666666666|\n",
      "|2021-06-15|        33848| 9.402222222222223|\n",
      "|2021-06-25|        33817| 9.393611111111111|\n",
      "|2021-06-04|        33757| 9.376944444444444|\n",
      "+----------+-------------+------------------+\n",
      "only showing top 20 rows\n",
      "\n"
     ]
    },
    {
     "name": "stderr",
     "output_type": "stream",
     "text": [
      "\r",
      "                                                                                \r"
     ]
    }
   ],
   "source": [
    "spark.sql(\"\"\"\n",
    "SELECT\n",
    "    date_only,\n",
    "    DiffInSeconds,\n",
    "    DiffInHours\n",
    "FROM \n",
    "    trips_data\n",
    "ORDER BY\n",
    "    DiffInSeconds DESC\n",
    "\n",
    "\"\"\").show()"
   ]
  },
  {
   "cell_type": "code",
   "execution_count": null,
   "id": "52f2091d",
   "metadata": {},
   "outputs": [],
   "source": []
  }
 ],
 "metadata": {
  "kernelspec": {
   "display_name": "Python 3 (ipykernel)",
   "language": "python",
   "name": "python3"
  },
  "language_info": {
   "codemirror_mode": {
    "name": "ipython",
    "version": 3
   },
   "file_extension": ".py",
   "mimetype": "text/x-python",
   "name": "python",
   "nbconvert_exporter": "python",
   "pygments_lexer": "ipython3",
   "version": "3.9.13"
  }
 },
 "nbformat": 4,
 "nbformat_minor": 5
}
